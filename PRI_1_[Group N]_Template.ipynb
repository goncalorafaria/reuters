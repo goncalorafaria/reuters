{
 "cells": [
  {
   "cell_type": "markdown",
   "metadata": {},
   "source": [
    "This implamentation is from group N, composed by:\n",
    "\n",
    "- Gonçalo Rui Alves Faria 97031\n",
    "\n",
    "This Notebook showcases the functional part of the first delivery. In each section we  present the function and a set of outputs. After each funtion we will mention the structure and the meaning of each input and output. Alternatively, you can include a standard funtion signature\n"
   ]
  },
  {
   "cell_type": "code",
   "execution_count": null,
   "metadata": {},
   "outputs": [],
   "source": [
    "## packages that have to be installed.  \n",
    "!pip install whoosh\n",
    "!pip install pickle\n",
    "!pip install blist\n",
    "!pip install lxml\n",
    "!pip install enum\n",
    "!pip install numpy\n"
   ]
  },
  {
   "cell_type": "code",
   "execution_count": 10,
   "metadata": {},
   "outputs": [],
   "source": [
    "from main import *\n",
    "from utils import parse_feedback"
   ]
  },
  {
   "cell_type": "code",
   "execution_count": 11,
   "metadata": {},
   "outputs": [],
   "source": [
    "#load data\n",
    "dtrain = []\n",
    "for a in os.listdir(\"../proj/rcv1/\"):\n",
    "    if a not in {\".DS_Store\",\"MD5SUMS\",\"dtds\",\"codes\"}:\n",
    "        if int(a) <= 19960930:\n",
    "            for i in glob.glob(\"../proj/rcv1/\" + a + \"/*.xml\"):\n",
    "                dtrain.append(i)\n",
    "                \n",
    "dtest = []\n",
    "for a in os.listdir(\"../proj/rcv1/\"):\n",
    "    if a not in {\".DS_Store\",\"MD5SUMS\",\"dtds\",\"codes\"}:\n",
    "        if int(a) > 19960930:\n",
    "            for i in glob.glob(\"../proj/rcv1/\" + a + \"/*.xml\"):\n",
    "                dtest.append(i)\n",
    "                \n",
    "rtest = parse_feedback(\"./qrels.test\")\n",
    "rtrain = parse_feedback(\"./qrels.train\")"
   ]
  },
  {
   "cell_type": "code",
   "execution_count": 12,
   "metadata": {},
   "outputs": [
    {
     "name": "stdout",
     "output_type": "stream",
     "text": [
      "number of docs:41825number of docs:41825\n",
      "\n",
      "out of the reader.\n",
      "out of the reader.\n",
      "('chunk', 0)\n",
      "('chunk', 1)\n",
      "('chunk', 2)\n",
      "('chunk', 3)\n",
      "('chunk', 4)\n",
      "time taken in part1 : 31.513821363449097\n",
      "time taken in part2 : 131.25703406333923\n",
      "0.14907235465943813\n"
     ]
    }
   ],
   "source": [
    "#(a) \n",
    "\n",
    "#indexing(D,args) (your implementation)\n",
    "\n",
    "#if needed you can call other funtions and imports for setup\n",
    "\n",
    "collection, timetaken, space = indexing(dtrain, SHARDS=5, dir =\".\")\n",
    "#from core import Bucket\n",
    "#collection = Bucket(chunks=5)\n",
    "\n",
    "print(space)"
   ]
  },
  {
   "cell_type": "markdown",
   "metadata": {},
   "source": [
    "__@input:__\n",
    "\n",
    "__D__ has the structure....\n",
    "\n",
    "__args:__ we used the following extra arguments... (if aplicable, if not don't include it)\n",
    "\n",
    "__@output__\n",
    "\n",
    "The inverted index has the structure ..."
   ]
  },
  {
   "cell_type": "code",
   "execution_count": 4,
   "metadata": {},
   "outputs": [
    {
     "data": {
      "text/plain": [
       "{'document', 'offend', 'repeat'}"
      ]
     },
     "execution_count": 4,
     "metadata": {},
     "output_type": "execute_result"
    }
   ],
   "source": [
    "#(b) not working\n",
    "\n",
    "#extract topic query(q,I,k,args)\n",
    "#print(space)\n",
    "\n",
    "extract_topic_query(collection, qcode=\"R102\", k=3, \n",
    "                    model=Bucket.Model.TF_IDF)"
   ]
  },
  {
   "cell_type": "markdown",
   "metadata": {},
   "source": [
    "__@input:__\n",
    "\n",
    "__q__ is a string\n",
    "\n",
    "__k__ is a integer\n",
    "\n",
    "__args__: we used the following extra arguments... (if aplicable, if not don't include it)\n",
    "\n",
    "__@output__\n",
    "\n",
    "list of strings (if not write here)"
   ]
  },
  {
   "cell_type": "code",
   "execution_count": 5,
   "metadata": {
    "scrolled": true
   },
   "outputs": [
    {
     "data": {
      "text/plain": [
       "['10284',\n",
       " '11003',\n",
       " '11076',\n",
       " '12767',\n",
       " '12769',\n",
       " '19573',\n",
       " '21806',\n",
       " '24515',\n",
       " '25096',\n",
       " '26061',\n",
       " '26598',\n",
       " '26611',\n",
       " '28601',\n",
       " '28662',\n",
       " '29703',\n",
       " '29908',\n",
       " '31057',\n",
       " '33053',\n",
       " '33172',\n",
       " '34509',\n",
       " '35059',\n",
       " '39356',\n",
       " '4358',\n",
       " '46316',\n",
       " '46422',\n",
       " '55914',\n",
       " '57914',\n",
       " '58476',\n",
       " '59226',\n",
       " '60237',\n",
       " '65414',\n",
       " '67480',\n",
       " '73038',\n",
       " '7567',\n",
       " '76635',\n",
       " '7729',\n",
       " '78452',\n",
       " '78455',\n",
       " '78836',\n",
       " '78904',\n",
       " '81437',\n",
       " '82227',\n",
       " '82634',\n",
       " '82828',\n",
       " '9428']"
      ]
     },
     "execution_count": 5,
     "metadata": {},
     "output_type": "execute_result"
    }
   ],
   "source": [
    "#(c)\n",
    "\n",
    "#boolean query(q,k,I,args)\n",
    "\n",
    "boolean_query(qcode=\"R102\", collection=collection, k=2,\n",
    "              model=Bucket.Model.BM25F)\n"
   ]
  },
  {
   "cell_type": "markdown",
   "metadata": {},
   "source": [
    "__@input:__\n",
    "\n",
    "__q__ is a string\n",
    "\n",
    "__k__ is a integer\n",
    "\n",
    "__args__: we used the following extra arguments... (if aplicable, if not don't include it)\n",
    "\n",
    "__@output__\n",
    "\n",
    "filtered collection is a ordered list of document identifiers"
   ]
  },
  {
   "cell_type": "code",
   "execution_count": 6,
   "metadata": {},
   "outputs": [
    {
     "data": {
      "text/plain": [
       "[('54780', 322.2133939878732),\n",
       " ('42848', 261.98386072193694),\n",
       " ('71894', 258.24332891036306),\n",
       " ('57876', 253.45809020952484),\n",
       " ('2739', 139.8133914391977),\n",
       " ('36046', 135.416045261012),\n",
       " ('31141', 135.416045261012),\n",
       " ('6635', 135.416045261012),\n",
       " ('44393', 130.20773582789613),\n",
       " ('50356', 130.20773582789613)]"
      ]
     },
     "execution_count": 6,
     "metadata": {},
     "output_type": "execute_result"
    }
   ],
   "source": [
    "#(d)\n",
    "\n",
    "#ranking(q,p,I,args)\n",
    "ranking(collection,qcode=\"R102\", limit=10,\n",
    "        model = Bucket.Model.TF_IDF)"
   ]
  },
  {
   "cell_type": "markdown",
   "metadata": {},
   "source": [
    "__@input:__\n",
    "\n",
    "__q__ is a string\n",
    "\n",
    "__p__ is a integer\n",
    "\n",
    "args: we used the following extra arguments... (if aplicable, if not don't include it)\n",
    "\n",
    "__@output__\n",
    "\n",
    "ordered set of top-p documents is a list of pairs (document identifier, scoring)"
   ]
  },
  {
   "cell_type": "code",
   "execution_count": 9,
   "metadata": {},
   "outputs": [
    {
     "name": "stdout",
     "output_type": "stream",
     "text": [
      "number of docs:361570number of docs:361571\n",
      "\n"
     ]
    },
    {
     "ename": "KeyboardInterrupt",
     "evalue": "",
     "output_type": "error",
     "traceback": [
      "\u001b[0;31m---------------------------------------------------------------------------\u001b[0m",
      "\u001b[0;31mKeyboardInterrupt\u001b[0m                         Traceback (most recent call last)",
      "\u001b[0;32m<ipython-input-9-2c4f4105c03f>\u001b[0m in \u001b[0;36m<module>\u001b[0;34m\u001b[0m\n\u001b[1;32m      1\u001b[0m \u001b[0;31m#(e)\u001b[0m\u001b[0;34m\u001b[0m\u001b[0;34m\u001b[0m\u001b[0;34m\u001b[0m\u001b[0m\n\u001b[1;32m      2\u001b[0m \u001b[0;31m#evaluation(Qtest ,Rtest ,Dtest ,args)\u001b[0m\u001b[0;34m\u001b[0m\u001b[0;34m\u001b[0m\u001b[0;34m\u001b[0m\u001b[0m\n\u001b[0;32m----> 3\u001b[0;31m evaluation(rtest.keys(),rtest, dtest, limit=1000,\n\u001b[0m\u001b[1;32m      4\u001b[0m                    model=Bucket.Model.BM25F, WORKERS=6, ranked=True)\n",
      "\u001b[0;32m~/Documents/Processo-Educativo/IST-Mestrado-Engenharia-e-Ciência-de-Dados/2º ano/1º-Semestre/Processamento e Recuperação de Informação/reuters/main.py\u001b[0m in \u001b[0;36mevaluation\u001b[0;34m(qtest, rtest, dtest, ranked, model, **kwargs)\u001b[0m\n\u001b[1;32m    121\u001b[0m         \u001b[0mcollection\u001b[0m\u001b[0;34m=\u001b[0m \u001b[0mkwargs\u001b[0m\u001b[0;34m[\u001b[0m\u001b[0;34m\"collection\"\u001b[0m\u001b[0;34m]\u001b[0m\u001b[0;34m\u001b[0m\u001b[0;34m\u001b[0m\u001b[0m\n\u001b[1;32m    122\u001b[0m     \u001b[0;32melse\u001b[0m\u001b[0;34m:\u001b[0m\u001b[0;34m\u001b[0m\u001b[0;34m\u001b[0m\u001b[0m\n\u001b[0;32m--> 123\u001b[0;31m         \u001b[0mcollection\u001b[0m\u001b[0;34m,\u001b[0m \u001b[0mtimetaken\u001b[0m\u001b[0;34m,\u001b[0m \u001b[0m_\u001b[0m \u001b[0;34m=\u001b[0m \u001b[0mindexing\u001b[0m\u001b[0;34m(\u001b[0m\u001b[0mdtest\u001b[0m\u001b[0;34m,\u001b[0m \u001b[0mSHARDS\u001b[0m\u001b[0;34m=\u001b[0m\u001b[0;36m5\u001b[0m\u001b[0;34m,\u001b[0m \u001b[0mdir\u001b[0m \u001b[0;34m=\u001b[0m\u001b[0;34m\".\"\u001b[0m\u001b[0;34m,\u001b[0m \u001b[0mdebug\u001b[0m\u001b[0;34m=\u001b[0m\u001b[0;32mFalse\u001b[0m\u001b[0;34m)\u001b[0m\u001b[0;34m\u001b[0m\u001b[0;34m\u001b[0m\u001b[0m\n\u001b[0m\u001b[1;32m    124\u001b[0m         \u001b[0mprint\u001b[0m\u001b[0;34m(\u001b[0m \u001b[0;34m(\u001b[0m\u001b[0;34m\"time\"\u001b[0m\u001b[0;34m,\u001b[0m\u001b[0mtimetaken\u001b[0m\u001b[0;34m)\u001b[0m \u001b[0;34m)\u001b[0m\u001b[0;34m\u001b[0m\u001b[0;34m\u001b[0m\u001b[0m\n\u001b[1;32m    125\u001b[0m \u001b[0;34m\u001b[0m\u001b[0m\n",
      "\u001b[0;32m~/Documents/Processo-Educativo/IST-Mestrado-Engenharia-e-Ciência-de-Dados/2º ano/1º-Semestre/Processamento e Recuperação de Informação/reuters/main.py\u001b[0m in \u001b[0;36mindexing\u001b[0;34m(documents, SHARDS, dir, debug)\u001b[0m\n\u001b[1;32m     25\u001b[0m     \u001b[0;31m#process_topics(path=\"./topics.txt\")\u001b[0m\u001b[0;34m\u001b[0m\u001b[0;34m\u001b[0m\u001b[0;34m\u001b[0m\u001b[0m\n\u001b[1;32m     26\u001b[0m \u001b[0;34m\u001b[0m\u001b[0m\n\u001b[0;32m---> 27\u001b[0;31m     process_documents(\n\u001b[0m\u001b[1;32m     28\u001b[0m         \u001b[0mdocuments\u001b[0m \u001b[0;34m=\u001b[0m \u001b[0mdocuments\u001b[0m\u001b[0;34m,\u001b[0m\u001b[0;34m\u001b[0m\u001b[0;34m\u001b[0m\u001b[0m\n\u001b[1;32m     29\u001b[0m         \u001b[0mworker_function\u001b[0m \u001b[0;34m=\u001b[0m \u001b[0mBucketChunks\u001b[0m\u001b[0;34m.\u001b[0m\u001b[0mworker_function\u001b[0m\u001b[0;34m,\u001b[0m \u001b[0;31m## maps collection into invertedIndexes objects.\u001b[0m\u001b[0;34m\u001b[0m\u001b[0;34m\u001b[0m\u001b[0m\n",
      "\u001b[0;32m~/Documents/Processo-Educativo/IST-Mestrado-Engenharia-e-Ciência-de-Dados/2º ano/1º-Semestre/Processamento e Recuperação de Informação/reuters/create.py\u001b[0m in \u001b[0;36mprocess_documents\u001b[0;34m(documents, worker_function, NUM_WORKERS, QUEUE_SIZE, NUM_READERS, dir, debug)\u001b[0m\n\u001b[1;32m    109\u001b[0m \u001b[0;34m\u001b[0m\u001b[0m\n\u001b[1;32m    110\u001b[0m     \u001b[0;31m## each worker produced a single inverted index.\u001b[0m\u001b[0;34m\u001b[0m\u001b[0;34m\u001b[0m\u001b[0;34m\u001b[0m\u001b[0m\n\u001b[0;32m--> 111\u001b[0;31m     \u001b[0mindexes\u001b[0m \u001b[0;34m=\u001b[0m \u001b[0;34m[\u001b[0m \u001b[0mworker_function\u001b[0m\u001b[0;34m(\u001b[0m\u001b[0;34m(\u001b[0m\u001b[0msharedqueue\u001b[0m\u001b[0;34m,\u001b[0m\u001b[0msignal\u001b[0m\u001b[0;34m)\u001b[0m\u001b[0;34m)\u001b[0m \u001b[0;34m]\u001b[0m \u001b[0;34m+\u001b[0m \u001b[0mlist\u001b[0m\u001b[0;34m(\u001b[0m\u001b[0miresults\u001b[0m\u001b[0;34m)\u001b[0m\u001b[0;34m\u001b[0m\u001b[0;34m\u001b[0m\u001b[0m\n\u001b[0m\u001b[1;32m    112\u001b[0m \u001b[0;34m\u001b[0m\u001b[0m\n\u001b[1;32m    113\u001b[0m     \u001b[0;31m## REDUCE PHASE\u001b[0m\u001b[0;34m\u001b[0m\u001b[0;34m\u001b[0m\u001b[0;34m\u001b[0m\u001b[0m\n",
      "\u001b[0;32m~/Documents/Processo-Educativo/IST-Mestrado-Engenharia-e-Ciência-de-Dados/2º ano/1º-Semestre/Processamento e Recuperação de Informação/reuters/core.py\u001b[0m in \u001b[0;36mworker_function\u001b[0;34m(args)\u001b[0m\n\u001b[1;32m     62\u001b[0m         \u001b[0;32mwhile\u001b[0m \u001b[0mbatomic\u001b[0m\u001b[0;34m.\u001b[0m\u001b[0mget\u001b[0m\u001b[0;34m(\u001b[0m\u001b[0;34m)\u001b[0m \u001b[0;32mor\u001b[0m \u001b[0;34m(\u001b[0m\u001b[0;32mnot\u001b[0m \u001b[0msharedqueue\u001b[0m\u001b[0;34m.\u001b[0m\u001b[0mempty\u001b[0m\u001b[0;34m(\u001b[0m\u001b[0;34m)\u001b[0m\u001b[0;34m)\u001b[0m\u001b[0;34m:\u001b[0m\u001b[0;34m\u001b[0m\u001b[0;34m\u001b[0m\u001b[0m\n\u001b[1;32m     63\u001b[0m             \u001b[0;32mtry\u001b[0m\u001b[0;34m:\u001b[0m\u001b[0;34m\u001b[0m\u001b[0;34m\u001b[0m\u001b[0m\n\u001b[0;32m---> 64\u001b[0;31m                 \u001b[0mxml_as_bytes\u001b[0m\u001b[0;34m,\u001b[0m \u001b[0mdocument\u001b[0m \u001b[0;34m=\u001b[0m \u001b[0msharedqueue\u001b[0m\u001b[0;34m.\u001b[0m\u001b[0mget\u001b[0m\u001b[0;34m(\u001b[0m\u001b[0;32mFalse\u001b[0m\u001b[0;34m,\u001b[0m\u001b[0;36m500\u001b[0m\u001b[0;34m+\u001b[0m\u001b[0mrandom\u001b[0m\u001b[0;34m.\u001b[0m\u001b[0mrandint\u001b[0m\u001b[0;34m(\u001b[0m\u001b[0;36m0\u001b[0m\u001b[0;34m,\u001b[0m \u001b[0;36m1000\u001b[0m\u001b[0;34m)\u001b[0m\u001b[0;34m)\u001b[0m\u001b[0;34m\u001b[0m\u001b[0;34m\u001b[0m\u001b[0m\n\u001b[0m\u001b[1;32m     65\u001b[0m                 \u001b[0mtree\u001b[0m \u001b[0;34m=\u001b[0m \u001b[0metree_lxml\u001b[0m\u001b[0;34m.\u001b[0m\u001b[0mfromstring\u001b[0m\u001b[0;34m(\u001b[0m\u001b[0mxml_as_bytes\u001b[0m\u001b[0;34m)\u001b[0m\u001b[0;34m\u001b[0m\u001b[0;34m\u001b[0m\u001b[0m\n\u001b[1;32m     66\u001b[0m                 \u001b[0mdt\u001b[0m \u001b[0;34m=\u001b[0m \u001b[0;34m[\u001b[0m\u001b[0;34m]\u001b[0m\u001b[0;34m\u001b[0m\u001b[0;34m\u001b[0m\u001b[0m\n",
      "\u001b[0;32m/usr/local/Cellar/python@3.8/3.8.5/Frameworks/Python.framework/Versions/3.8/lib/python3.8/queue.py\u001b[0m in \u001b[0;36mget\u001b[0;34m(self, block, timeout)\u001b[0m\n\u001b[1;32m    162\u001b[0m         in that case).\n\u001b[1;32m    163\u001b[0m         '''\n\u001b[0;32m--> 164\u001b[0;31m         \u001b[0;32mwith\u001b[0m \u001b[0mself\u001b[0m\u001b[0;34m.\u001b[0m\u001b[0mnot_empty\u001b[0m\u001b[0;34m:\u001b[0m\u001b[0;34m\u001b[0m\u001b[0;34m\u001b[0m\u001b[0m\n\u001b[0m\u001b[1;32m    165\u001b[0m             \u001b[0;32mif\u001b[0m \u001b[0;32mnot\u001b[0m \u001b[0mblock\u001b[0m\u001b[0;34m:\u001b[0m\u001b[0;34m\u001b[0m\u001b[0;34m\u001b[0m\u001b[0m\n\u001b[1;32m    166\u001b[0m                 \u001b[0;32mif\u001b[0m \u001b[0;32mnot\u001b[0m \u001b[0mself\u001b[0m\u001b[0;34m.\u001b[0m\u001b[0m_qsize\u001b[0m\u001b[0;34m(\u001b[0m\u001b[0;34m)\u001b[0m\u001b[0;34m:\u001b[0m\u001b[0;34m\u001b[0m\u001b[0;34m\u001b[0m\u001b[0m\n",
      "\u001b[0;32m/usr/local/Cellar/python@3.8/3.8.5/Frameworks/Python.framework/Versions/3.8/lib/python3.8/threading.py\u001b[0m in \u001b[0;36m__enter__\u001b[0;34m(self)\u001b[0m\n\u001b[1;32m    245\u001b[0m \u001b[0;34m\u001b[0m\u001b[0m\n\u001b[1;32m    246\u001b[0m     \u001b[0;32mdef\u001b[0m \u001b[0m__enter__\u001b[0m\u001b[0;34m(\u001b[0m\u001b[0mself\u001b[0m\u001b[0;34m)\u001b[0m\u001b[0;34m:\u001b[0m\u001b[0;34m\u001b[0m\u001b[0;34m\u001b[0m\u001b[0m\n\u001b[0;32m--> 247\u001b[0;31m         \u001b[0;32mreturn\u001b[0m \u001b[0mself\u001b[0m\u001b[0;34m.\u001b[0m\u001b[0m_lock\u001b[0m\u001b[0;34m.\u001b[0m\u001b[0m__enter__\u001b[0m\u001b[0;34m(\u001b[0m\u001b[0;34m)\u001b[0m\u001b[0;34m\u001b[0m\u001b[0;34m\u001b[0m\u001b[0m\n\u001b[0m\u001b[1;32m    248\u001b[0m \u001b[0;34m\u001b[0m\u001b[0m\n\u001b[1;32m    249\u001b[0m     \u001b[0;32mdef\u001b[0m \u001b[0m__exit__\u001b[0m\u001b[0;34m(\u001b[0m\u001b[0mself\u001b[0m\u001b[0;34m,\u001b[0m \u001b[0;34m*\u001b[0m\u001b[0margs\u001b[0m\u001b[0;34m)\u001b[0m\u001b[0;34m:\u001b[0m\u001b[0;34m\u001b[0m\u001b[0;34m\u001b[0m\u001b[0m\n",
      "\u001b[0;31mKeyboardInterrupt\u001b[0m: "
     ]
    }
   ],
   "source": [
    "#(e) \n",
    "#evaluation(Qtest ,Rtest ,Dtest ,args)\n",
    "evaluation(rtest.keys(),rtest, dtest, limit=1000,\n",
    "                   model=Bucket.Model.BM25F, WORKERS=6, ranked=True)"
   ]
  },
  {
   "cell_type": "markdown",
   "metadata": {},
   "source": [
    "__@input:__\n",
    "\n",
    "__Qtest__ is a \n",
    "\n",
    "__Rtest__ is a \n",
    "\n",
    "__Dtest__ is a \n",
    "\n",
    "args: we used the following extra arguments... (if aplicable, if not don't include it)\n",
    "\n",
    "__@output__\n",
    "\n",
    "List what each output is (mention statistics names)"
   ]
  },
  {
   "cell_type": "markdown",
   "metadata": {},
   "source": [
    "__@input:__ and __@output__ of each funtion"
   ]
  }
 ],
 "metadata": {
  "kernelspec": {
   "display_name": "Python 3",
   "language": "python",
   "name": "python3"
  },
  "language_info": {
   "codemirror_mode": {
    "name": "ipython",
    "version": 3
   },
   "file_extension": ".py",
   "mimetype": "text/x-python",
   "name": "python",
   "nbconvert_exporter": "python",
   "pygments_lexer": "ipython3",
   "version": "3.8.5"
  }
 },
 "nbformat": 4,
 "nbformat_minor": 4
}
